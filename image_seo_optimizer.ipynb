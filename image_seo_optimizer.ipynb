{
  "cells": [
    {
      "cell_type": "markdown",
      "metadata": {},
      "source": [
        "# \ud83d\uddbc\ufe0f Image SEO Optimizer\n",
        "A tool to rename image files and generate alt-text for SEO improvements in e-commerce."
      ]
    },
    {
      "cell_type": "code",
      "execution_count": null,
      "metadata": {},
      "outputs": [],
      "source": [
        "import os\n",
        "import pandas as pd\n",
        "import uuid\n",
        "import re\n",
        "\n",
        "# Set up paths\n",
        "image_folder = 'images/'  # Folder where your images are\n",
        "keywords_file = 'product_keywords.csv'  # A CSV file with a 'keyword' column\n",
        "output_csv = 'image_seo_report.csv'\n",
        "\n",
        "# Load keywords\n",
        "keywords_df = pd.read_csv(keywords_file)\n",
        "keywords = keywords_df['keyword'].tolist()\n",
        "\n",
        "# Prepare result list\n",
        "seo_data = []\n",
        "\n",
        "for i, filename in enumerate(os.listdir(image_folder)):\n",
        "    if filename.lower().endswith(('.png', '.jpg', '.jpeg')):\n",
        "        keyword = keywords[i % len(keywords)]\n",
        "        new_filename = re.sub(r'[^a-zA-Z0-9]', '-', keyword.lower()) + f'-{uuid.uuid4().hex[:6]}' + os.path.splitext(filename)[1]\n",
        "        os.rename(os.path.join(image_folder, filename), os.path.join(image_folder, new_filename))\n",
        "\n",
        "        alt_text = f\"High quality image of {keyword}\"\n",
        "        seo_data.append({\n",
        "            'original_file': filename,\n",
        "            'new_filename': new_filename,\n",
        "            'alt_text': alt_text\n",
        "        })\n",
        "\n",
        "# Save report\n",
        "pd.DataFrame(seo_data).to_csv(output_csv, index=False)\n",
        "print(f\"SEO optimization complete! Report saved to {output_csv}\")"
      ]
    }
  ],
  "metadata": {
    "kernelspec": {
      "display_name": "Python 3",
      "language": "python",
      "name": "python3"
    },
    "language_info": {
      "name": "python",
      "version": ""
    }
  },
  "nbformat": 4,
  "nbformat_minor": 2
}